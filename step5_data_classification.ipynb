{
 "cells": [
  {
   "cell_type": "code",
   "execution_count": null,
   "metadata": {},
   "outputs": [],
   "source": [
    "################# cria uma matriz com a taxa de quasares por estrelas  ################\n",
    "\n",
    "def matriz_distribuicao(df,i_lines,j_colunms,min_linha,min_coluna): \n",
    "  '''\n",
    "  This function creates a matrix with i_lines and j_colunms \n",
    "  \n",
    "  '''\n",
    "  matrix = np.zeros((i_lines, j_colunms))\n",
    "  for i in range(len(matrix)):\n",
    "    min_linha = min_linha\n",
    "    coordenada_linha = min_linha + i\n",
    "    for j in range(len(matrix)):\n",
    "        min_coluna = min_coluna\n",
    "        coordenada_coluna = min_coluna + j\n",
    "        contagem = df.copy()\n",
    "        contagem = contagem[contagem['Eixo_x']<=coordenada_linha]\n",
    "        contagem = contagem[contagem['Eixo_x']>coordenada_linha-1]\n",
    "        contagem = contagem[contagem['Eixo_y']<=coordenada_coluna]\n",
    "        contagem = contagem[contagem['Eixo_y']>coordenada_coluna-1]\n",
    "        if len(contagem[contagem['class']=='STAR']) == 0:\n",
    "          ratio = 0\n",
    "        else:\n",
    "          ratio = len(contagem[contagem['class']=='QSO'])/len(contagem[contagem['class']=='STAR'])\n",
    "        matrix[i][j] = ratio\n",
    "  return matrix \n",
    "  #convulução dos pixels através da transformada de fourrier \n",
    "\n",
    "  #regularizar a matriz, utilizando um smoothing con kernel (?). Kernel sendo uma gaussiana "
   ]
  }
 ],
 "metadata": {
  "language_info": {
   "name": "python"
  },
  "orig_nbformat": 4
 },
 "nbformat": 4,
 "nbformat_minor": 2
}
