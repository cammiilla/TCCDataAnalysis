{
 "cells": [
  {
   "cell_type": "code",
   "execution_count": 1,
   "metadata": {},
   "outputs": [],
   "source": [
    "################# imports  ################\n",
    "import SciServer\n",
    "from SciServer import Authentication, LoginPortal, Config, CasJobs, SkyQuery, SciDrive, SkyServer, Files, Jobs\n",
    "import os;\n",
    "import pandas as pd;\n",
    "import sys;\n",
    "import json;\n",
    "from io import StringIO\n",
    "from io import BytesIO\n",
    "#from PIL import Image\n",
    "import numpy as np\n",
    "import matplotlib.pyplot as plt\n",
    "from astropy.io import ascii, fits\n",
    "from astropy.table import Table, join, hstack,vstack,QTable\n",
    "from astropy.table import Table\n",
    "from esutil import htm"
   ]
  },
  {
   "cell_type": "markdown",
   "metadata": {},
   "source": [
    "## Carregamento dos dados "
   ]
  },
  {
   "cell_type": "code",
   "execution_count": 2,
   "metadata": {},
   "outputs": [],
   "source": [
    "################# Sloan Data ################\n",
    "################# credenciais  ################\n",
    "# Define login Name and password before running these examples\n",
    "Authentication_loginName = 'cammiillac'\n",
    "Authentication_loginPassword = 'Averdade24-12'\n",
    "token1 = Authentication.login(Authentication_loginName, Authentication_loginPassword)"
   ]
  },
  {
   "cell_type": "code",
   "execution_count": 3,
   "metadata": {},
   "outputs": [],
   "source": [
    "################# query DR12 ################\n",
    "#get a Pandas dataframe containing the results of a query\n",
    "# Para mais informações sobre os schemas e tabelas do DR16 --> http://skyserver.sdss.org/dr16/en/home.aspx?token=2138603d7a5f4bf2ac1ea1c6a40e2e5c\n",
    "CasJobs_Database = \"DR12\"\n",
    "CasJobs_Query = \"select specObjID, survey, instrument,class,ra, dec, z, zErr from SpecObj where class = 'QSO'\"\n",
    "\n",
    "sloan_data_dr12_qso = CasJobs.getPandasDataFrameFromQuery(queryString=CasJobs_Query, context=CasJobs_Database)"
   ]
  },
  {
   "cell_type": "code",
   "execution_count": 4,
   "metadata": {},
   "outputs": [],
   "source": [
    "################# query DR16 ################\n",
    "#get a Pandas dataframe containing the results of a query\n",
    "# Para mais informações sobre os schemas e tabelas do DR16 --> http://skyserver.sdss.org/dr16/en/home.aspx?token=2138603d7a5f4bf2ac1ea1c6a40e2e5c\n",
    "CasJobs_Database = \"DR16\"\n",
    "CasJobs_Query = \"select specObjID, survey, instrument,class,ra, dec, z, zErr from SpecObj where class = 'QSO'\"\n",
    "\n",
    "sloan_data_dr16_qso = CasJobs.getPandasDataFrameFromQuery(queryString=CasJobs_Query, context=CasJobs_Database)"
   ]
  },
  {
   "cell_type": "markdown",
   "metadata": {},
   "source": [
    "## Processamento dos dados "
   ]
  },
  {
   "cell_type": "code",
   "execution_count": 5,
   "metadata": {},
   "outputs": [],
   "source": [
    "################# Match ################\n",
    "\n",
    "def match(cat_1, cat_2, column_1, column_2, column_3, column_4,error):\n",
    "    'Function to make the matching with two tables, using the esutil'\n",
    "    h = htm.HTM(depth=10)\n",
    "    m1, m2, d12 = h.match(np.array(cat_1[column_1]), \n",
    "                          np.array(cat_1[column_3]),\n",
    "                          np.array(cat_2[column_2]), \n",
    "                          np.array(cat_2[column_4]),\n",
    "                          error, maxmatch=1)\n",
    "    \n",
    "    submatched = cat_1[m1]\n",
    "    manmatched = cat_2[m2]\n",
    "    matched = hstack([submatched, manmatched])\n",
    "      \n",
    "    return matched"
   ]
  },
  {
   "cell_type": "code",
   "execution_count": 6,
   "metadata": {},
   "outputs": [],
   "source": [
    "# Conjunto de dados 01\n",
    "sloan_data_dr12_qso_table = Table.from_pandas(sloan_data_dr12_qso)\n",
    "# Conjunto de dados 02\n",
    "sloan_data_dr16_qso_table = Table.from_pandas(sloan_data_dr16_qso)\n",
    "\n",
    "# Match\n",
    "# 1 segundo de arco = 0.0002778 graus\n",
    "match_dr12_dr16 = match(sloan_data_dr12_qso_table,sloan_data_dr16_qso_table,'ra','ra','dec','dec',0.0002).to_pandas()"
   ]
  },
  {
   "cell_type": "code",
   "execution_count": 7,
   "metadata": {},
   "outputs": [],
   "source": [
    "only_in_dr12 = sloan_data_dr12_qso[~sloan_data_dr12_qso.specObjID.isin(match_dr12_dr16.specObjID_1)]"
   ]
  },
  {
   "cell_type": "code",
   "execution_count": 23,
   "metadata": {},
   "outputs": [],
   "source": [
    "only_in_dr12_table = Table.from_pandas(only_in_dr12)\n",
    "\n",
    "segundo_match_dr12_dr16 = match(only_in_dr12_table,sloan_data_dr16_qso_table,'ra','ra','dec','dec',0.0002).to_pandas()"
   ]
  },
  {
   "cell_type": "code",
   "execution_count": 8,
   "metadata": {},
   "outputs": [
    {
     "data": {
      "text/plain": [
       "<BarContainer object of 3 artists>"
      ]
     },
     "execution_count": 8,
     "metadata": {},
     "output_type": "execute_result"
    },
    {
     "data": {
      "image/png": "[encoded data removed]",
      "text/plain": [
       "<Figure size 432x288 with 1 Axes>"
      ]
     },
     "metadata": {
      "needs_background": "light"
     },
     "output_type": "display_data"
    }
   ],
   "source": [
    "plt.bar(['only_dr12','dr_12','dr_16'],[len(only_in_dr12),len(sloan_data_dr12_qso),len(sloan_data_dr16_qso)])"
   ]
  },
  {
   "cell_type": "code",
   "execution_count": 9,
   "metadata": {},
   "outputs": [
    {
     "name": "stdout",
     "output_type": "stream",
     "text": [
      "Somente no DR12:70613 \n",
      " DR12:632187 \n",
      " DR16:1102641\n"
     ]
    }
   ],
   "source": [
    "print('Somente no DR12:{0} \\n DR12:{1} \\n DR16:{2}'.format(len(only_in_dr12),len(sloan_data_dr12_qso),len(sloan_data_dr16_qso)))"
   ]
  },
  {
   "cell_type": "code",
   "execution_count": null,
   "metadata": {},
   "outputs": [],
   "source": [
    "# consultar se quasares variáveis estão nesse grupo "
   ]
  }
 ],
 "metadata": {
  "kernelspec": {
   "display_name": "Python 3",
   "language": "python",
   "name": "python3"
  },
  "language_info": {
   "codemirror_mode": {
    "name": "ipython",
    "version": 3
   },
   "file_extension": ".py",
   "mimetype": "text/x-python",
   "name": "python",
   "nbconvert_exporter": "python",
   "pygments_lexer": "ipython3",
   "version": "3.6.9"
  }
 },
 "nbformat": 4,
 "nbformat_minor": 4
}
