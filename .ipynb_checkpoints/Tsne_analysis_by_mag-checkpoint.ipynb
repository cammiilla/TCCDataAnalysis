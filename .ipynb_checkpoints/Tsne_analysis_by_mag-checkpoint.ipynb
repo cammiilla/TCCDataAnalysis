{
 "cells": [
  {
   "cell_type": "code",
   "execution_count": null,
   "metadata": {},
   "outputs": [],
   "source": [
    "!git init <tSNE_analysis tSNE_analysis/>"
   ]
  },
  {
   "cell_type": "code",
   "execution_count": 2,
   "metadata": {},
   "outputs": [],
   "source": [
    "################# imports  ################\n",
    "from os import listdir\n",
    "from os.path import isfile, join\n",
    "import pandas as pd\n",
    "\n",
    "from io import StringIO\n",
    "from io import BytesIO\n",
    "#from PIL import Image\n",
    "import numpy as np\n",
    "import matplotlib.pyplot as plt\n",
    "from astropy.io import ascii, fits\n",
    "from astropy.table import Table\n",
    "import numpy as np\n",
    "import pandas as pd\n",
    "import os #biblioteca para manipular arquivos e pastas\n",
    "from os import listdir\n",
    "from os.path import isfile, join\n"
   ]
  },
  {
   "cell_type": "code",
   "execution_count": 2,
   "metadata": {},
   "outputs": [],
   "source": [
    "################# Normalização do df ################\n",
    "def minmax_norm(df_input):\n",
    "    normalizacao = (df_input - df_input.min()) / ( df_input.max() - df_input.min())\n",
    "    return normalizacao"
   ]
  },
  {
   "cell_type": "code",
   "execution_count": 3,
   "metadata": {},
   "outputs": [],
   "source": [
    "################# análise TSNE  ################\n",
    "from sklearn.manifold import TSNE\n",
    "\n",
    "def tsne_analisys(data_to_analisys, perplexity, n_iter):\n",
    "    tsne_analisys = TSNE(n_components=2, perplexity=perplexity, n_iter=n_iter).fit_transform(data_to_analisys)\n",
    "    tsne_analisys = pd.DataFrame(tsne_analisys, columns = ['Eixo_x','Eixo_y'])\n",
    "    return tsne_analisys"
   ]
  },
  {
   "cell_type": "markdown",
   "metadata": {},
   "source": [
    "# Carregamento dos dados "
   ]
  },
  {
   "cell_type": "markdown",
   "metadata": {},
   "source": [
    "## Match"
   ]
  },
  {
   "cell_type": "code",
   "execution_count": 4,
   "metadata": {},
   "outputs": [],
   "source": [
    "match_des_sloan_quasars_df = Table.read('/media/new-drive/CamilaCardoso/CROSS_MATCH_SLOAN_DR16_DES_20211029.fits').to_pandas()\n",
    "ra_min = match_des_sloan_quasars_df['RA'].min()\n",
    "ra_max = match_des_sloan_quasars_df['RA'].max()\n",
    "dec_min = match_des_sloan_quasars_df['DEC'].min()\n",
    "dec_max = match_des_sloan_quasars_df['DEC'].max()"
   ]
  },
  {
   "cell_type": "markdown",
   "metadata": {},
   "source": [
    "## Des"
   ]
  },
  {
   "cell_type": "code",
   "execution_count": 5,
   "metadata": {},
   "outputs": [
    {
     "name": "stdout",
     "output_type": "stream",
     "text": [
      "/media/new-drive/CamilaCardoso/DES/DES_DR2_interval_0_1000.fits\n",
      "/media/new-drive/CamilaCardoso/DES/DES_DR2_interval_1000_2000.fits\n",
      "/media/new-drive/CamilaCardoso/DES/DES_DR2_interval_2000_3000.fits\n",
      "/media/new-drive/CamilaCardoso/DES/DES_DR2_interval_3000_4000.fits\n",
      "/media/new-drive/CamilaCardoso/DES/DES_DR2_interval_4000_5000.fits\n",
      "/media/new-drive/CamilaCardoso/DES/DES_DR2_interval_5000_6000.fits\n",
      "/media/new-drive/CamilaCardoso/DES/DES_DR2_interval_6000_6568.fits\n"
     ]
    }
   ],
   "source": [
    "################# lê e concatena todas as tabelas que tem no diretório indicado ################\n",
    "diretorio = '/media/new-drive/CamilaCardoso/DES/'\n",
    "table_list = []\n",
    "for diretorio, subpastas, arquivos in os.walk(diretorio):\n",
    "    for arquivo in arquivos:\n",
    "        df = Table.read(os.path.join(diretorio, arquivo)).to_pandas()\n",
    "        df = df[df['RA']>= ra_min]\n",
    "        df = df[df['RA']<= ra_max]\n",
    "        df = df[df['DEC']>= dec_min]\n",
    "        df = df[df['DEC']<= dec_max]\n",
    "        table_list.append(df)\n",
    "        print(os.path.join(diretorio, arquivo))\n",
    "des_data_filtered = pd.concat(table_list, axis=0, ignore_index=True)"
   ]
  },
  {
   "cell_type": "code",
   "execution_count": 6,
   "metadata": {},
   "outputs": [],
   "source": [
    "#faz um merge com os dados do gabarito que contém quasares\n",
    "df = pd.merge(des_data_filtered,match_des_sloan_quasars_df[['COADD_OBJECT_ID','class']],on='COADD_OBJECT_ID', how='left')\n",
    "df['class'] = df['class'].fillna('des_unclassified')"
   ]
  },
  {
   "cell_type": "code",
   "execution_count": 8,
   "metadata": {},
   "outputs": [],
   "source": [
    "des_data_to_analysis  = df.copy()\n",
    "des_data_to_analysis.drop(['COADD_OBJECT_ID','RA','DEC','HPIX_64','class'], axis=1, inplace=True)"
   ]
  },
  {
   "cell_type": "code",
   "execution_count": 11,
   "metadata": {},
   "outputs": [],
   "source": [
    "des_data_to_analysis_normalized = minmax_norm(des_data_to_analysis)"
   ]
  },
  {
   "cell_type": "code",
   "execution_count": 1,
   "metadata": {},
   "outputs": [
    {
     "ename": "NameError",
     "evalue": "name 'tsne_unclassified' is not defined",
     "output_type": "error",
     "traceback": [
      "\u001b[0;31m---------------------------------------------------------------------------\u001b[0m",
      "\u001b[0;31mNameError\u001b[0m                                 Traceback (most recent call last)",
      "\u001b[0;32m<ipython-input-1-075ab8caada8>\u001b[0m in \u001b[0;36m<module>\u001b[0;34m\u001b[0m\n\u001b[0;32m----> 1\u001b[0;31m \u001b[0mtsne_unclassified\u001b[0m\u001b[0;34m\u001b[0m\u001b[0;34m\u001b[0m\u001b[0m\n\u001b[0m",
      "\u001b[0;31mNameError\u001b[0m: name 'tsne_unclassified' is not defined"
     ]
    }
   ],
   "source": [
    "tsne_unclassified"
   ]
  },
  {
   "cell_type": "code",
   "execution_count": null,
   "metadata": {},
   "outputs": [],
   "source": [
    "tsne_analysis_des_filtered_normalized = tsne_analisys(des_data_to_analysis_normalized,40,1000)\n",
    "tsne_analysis_des_filtered_normalized_gabarito = pd.merge(tsne_analysis_des_filtered_normalized,df[['class']],left_index=True, right_index=True, how='left')\n",
    "tsne_normalized_qso = tsne_analysis_des_filtered_normalized_gabarito[tsne_analysis_des_filtered_normalized_gabarito['class']==\"b'QSO'\"]\n",
    "tsne_normalized_unclassified = tsne_analysis_des_filtered_normalized_gabarito[tsne_analysis_des_filtered_normalized_gabarito['class']!=\"b'QSO'\"]\n",
    "\n",
    "tsne_analysis_des_filtered = tsne_analisys(des_data_to_analysis,40,1000)\n",
    "tsne_analysis_des_filtered_gabarito = pd.merge(tsne_analysis_des_filtered,df[['class']],left_index=True, right_index=True, how='left')\n",
    "tsne_qso = tsne_analysis_des_filtered_gabarito[tsne_analysis_des_filtered_gabarito['class']==\"b'QSO'\"]\n",
    "tsne_unclassified = tsne_analysis_des_filtered_gabarito[tsne_analysis_des_filtered_gabarito['class']!=\"b'QSO'\"]"
   ]
  },
  {
   "cell_type": "code",
   "execution_count": null,
   "metadata": {},
   "outputs": [],
   "source": [
    "import matplotlib.pyplot as plt\n",
    "from matplotlib.pyplot import *\n",
    "fig, ((ax1,ax2,ax3), (ax4, ax5,ax6)) = plt.subplots(2 ,3 , sharex=True, sharey=True, figsize=(30,20))\n",
    "\n",
    "\n",
    "ax1.scatter(tsne_qso['Eixo_x'],tsne_qso['Eixo_y'],c='r',alpha=0.5, label = 'Sloan DR16 - Quasares')\n",
    "ax1.scatter(tsne_unclassified['Eixo_x'],tsne_unclassified['Eixo_y'],c='b', alpha=0.5, label = 'Não Classificados')\n",
    "ax1.title.set_text('Amostra de objetos do DES localizados na região dada por {0} ≤ RA ≤ {1} e {2} ≤ DEC ≤ {3} com parâmetros do t-SNE: perp = {4} e n_iter = {5}'.format(ra_min,ra_max,dec_min,dec_max,1000,40))\n",
    "ax1.legend()\n",
    "\n",
    "ax2.scatter(tsne_qso['Eixo_x'],tsne_qso['Eixo_y'],c='r',alpha=0.5, label = 'Sloan DR16 - Quasares')\n",
    "ax2.title.set_text('Amostra de objetos do DES localizados na região dada por {0} ≤ RA ≤ {1} e {2} ≤ DEC ≤ {3} com parâmetros do t-SNE: perp = {4} e n_iter = {5}'.format(ra_min,ra_max,dec_min,dec_max,1000,40))\n",
    "ax2.legend()\n",
    "\n",
    "ax3.scatter(tsne_unclassified['Eixo_x'],tsne_unclassified['Eixo_y'],c='b', alpha=0.5, label = 'Não Classificados')\n",
    "ax3.title.set_text('Amostra de objetos do DES localizados na região dada por {0} ≤ RA ≤ {1} e {2} ≤ DEC ≤ {3} com parâmetros do t-SNE: perp = {4} e n_iter = {5}'.format(ra_min,ra_max,dec_min,dec_max,1000,40))\n",
    "ax3.legend()\n",
    "\n",
    "ax4.scatter(tsne_normalized_qso['Eixo_x'],tsne_normalized_qso['Eixo_y'],c='r',alpha=0.5, label = 'Sloan DR16 - Quasares')\n",
    "ax4.scatter(tsne_normalized_unclassified['Eixo_x'],tsne_normalized_unclassified['Eixo_y'],c='b', alpha=0.5, label = 'Não Classificados')\n",
    "ax4.title.set_text('Amostra de objetos do DES localizados na região dada por {0} ≤ RA ≤ {1} e {2} ≤ DEC ≤ {3} com parâmetros do t-SNE: perp = {4}, n_iter = {5} e o dataset com atributos normalizados'.format(ra_min,ra_max,dec_min,dec_max,1000,40))\n",
    "ax4.legend()\n",
    "\n",
    "ax5.scatter(tsne_normalized_qso['Eixo_x'],tsne_normalized_qso['Eixo_y'],c='r',alpha=0.5, label = 'Sloan DR16 - Quasares')\n",
    "ax5.title.set_text('Amostra de objetos do DES localizados na região dada por {0} ≤ RA ≤ {1} e {2} ≤ DEC ≤ {3} com parâmetros do t-SNE: perp = {4}, n_iter = {5} e o dataset com atributos normalizados'.format(ra_min,ra_max,dec_min,dec_max,1000,40))\n",
    "ax5.legend()\n",
    "\n",
    "ax6.scatter(tsne_normalized_unclassified['Eixo_x'],tsne_normalized_unclassified['Eixo_y'],c='b', alpha=0.5, label = 'Não Classificados')\n",
    "ax6.title.set_text('Amostra de objetos do DES localizados na região dada por {0} ≤ RA ≤ {1} e {2} ≤ DEC ≤ {3} com parâmetros do t-SNE: perp = {4}, n_iter = {5} e o dataset com atributos normalizados'.format(ra_min,ra_max,dec_min,dec_max,1000,40))\n",
    "ax6.legend()\n",
    "\n",
    "plt.savefig('tsne_analisys_sample_20211030.png', format='png')\n",
    "plt.show()\n",
    "\n"
   ]
  },
  {
   "cell_type": "code",
   "execution_count": 52,
   "metadata": {},
   "outputs": [
    {
     "data": {
      "text/plain": [
       "<matplotlib.collections.PathCollection at 0x7f38a4f22dd8>"
      ]
     },
     "execution_count": 52,
     "metadata": {},
     "output_type": "execute_result"
    },
    {
     "data": {
      "image/png": "[encoded data removed]",
      "text/plain": [
       "<Figure size 432x288 with 1 Axes>"
      ]
     },
     "metadata": {
      "needs_background": "light"
     },
     "output_type": "display_data"
    }
   ],
   "source": [
    "amostra_tsne = tsne_analisys(amostra,40,2000)\n",
    "plt.scatter(amostra_tsne['Eixo_x'],amostra_tsne['Eixo_y'],c='r', label = 'Estrelas')"
   ]
  },
  {
   "cell_type": "code",
   "execution_count": 28,
   "metadata": {},
   "outputs": [],
   "source": [
    "des_data_tobe_analyzed  = df "
   ]
  },
  {
   "cell_type": "code",
   "execution_count": 29,
   "metadata": {},
   "outputs": [],
   "source": [
    "des_data_tobe_analyzed.drop(['COADD_OBJECT_ID','RA','DEC','HPIX_64','class'], axis=1, inplace=True)"
   ]
  },
  {
   "cell_type": "code",
   "execution_count": 32,
   "metadata": {},
   "outputs": [],
   "source": [
    "des_data_tobe_analyzed_normalized = minmax_norm(des_data_tobe_analyzed)"
   ]
  },
  {
   "cell_type": "code",
   "execution_count": null,
   "metadata": {},
   "outputs": [],
   "source": [
    "#Dados não normalizados \n",
    "des_tsne_analisys_not_normalized = tsne_analisys(des_data_tobe_analyzed,40,2000)\n",
    "\n",
    "#Amostra 2\n",
    "des_tsne_analisys_normalized = tsne_analisys(des_data_tobe_analyzed_normalized,40,2000)"
   ]
  },
  {
   "cell_type": "markdown",
   "metadata": {},
   "source": [
    "## Plot"
   ]
  },
  {
   "cell_type": "code",
   "execution_count": 10,
   "metadata": {},
   "outputs": [],
   "source": [
    "Nside = 64\n",
    "Npix = hp.nside2npix(Nside) # Definição de Npix - 12*(Nside)**2\n",
    "\n",
    "# Criando um dataframe para a plotagem do mollview \n",
    "pixels_location = pd.DataFrame()\n",
    "pixels_location['indices'] = np.arange(Npix)"
   ]
  },
  {
   "cell_type": "code",
   "execution_count": 66,
   "metadata": {},
   "outputs": [],
   "source": [
    "match_pixels_location = pd.DataFrame()\n",
    "match_pixels_location['indices'] = match_des_sloan_quasars['Npix']\n",
    "match_pixels_grouped = match_pixels_location.groupby(['indices']).size().reset_index(name='counts')\n",
    "\n",
    "match_pixels_frequency = pd.merge(pixels_location, match_pixels_grouped, how = 'outer')\n",
    "match_pixels_frequency = match_pixels_frequency.fillna(0) "
   ]
  },
  {
   "cell_type": "code",
   "execution_count": 73,
   "metadata": {},
   "outputs": [
    {
     "data": {
      "image/png": "[encoded data removed]",
      "text/plain": [
       "<Figure size 720x720 with 2 Axes>"
      ]
     },
     "metadata": {
      "needs_background": "light"
     },
     "output_type": "display_data"
    }
   ],
   "source": [
    "plt.figure(figsize=(10,10))\n",
    "hp.mollview(match_pixels_frequency.counts.values, title=\"Distribuição de objetos por pixel dos dados presentes no Cross Match \\n entre quasares presentes no Sloan Sky Survey DR16 e objetos não classificados presentes do Dark Energy Survey \", unit='Objetos por pixel', cmap='jet', hold =True )\n",
    "plt.show()"
   ]
  },
  {
   "cell_type": "code",
   "execution_count": null,
   "metadata": {},
   "outputs": [],
   "source": [
    "def filtragem_colunas(resultado):    \n",
    "    #Converte o resultado do match em um data frame pandas\n",
    "    result = resultado.to_pandas()\n",
    "\n",
    "    # Adiciona uma coluna chamada flag z<=0.002 -> flag = 1 z>0.002 flag = 0\n",
    "    result['flag'] = result['z'].apply(lambda x: 1 if x<=0.002  else 0)\n",
    "\n",
    "\n",
    "\n",
    "    #Cria um dataframe pandas novo e insere somente os dados relativos às magnitudes\n",
    "    data_to_analisys = pd.DataFrame()\n",
    "    data_to_analisys['MAG_AUTO_G'] = result['MAG_AUTO_G']\n",
    "    data_to_analisys['MAG_AUTO_R'] = result['MAG_AUTO_R']\n",
    "    data_to_analisys['MAG_AUTO_I'] = result['MAG_AUTO_I']\n",
    "    data_to_analisys['MAG_AUTO_Z'] = result['MAG_AUTO_Z']\n",
    "    data_to_analisys['MAG_AUTO_Y'] = result['MAG_AUTO_Y']\n",
    "    return data_to_analisys, result"
   ]
  }
 ],
 "metadata": {
  "kernelspec": {
   "display_name": "Python 3",
   "language": "python",
   "name": "python3"
  },
  "language_info": {
   "codemirror_mode": {
    "name": "ipython",
    "version": 3
   },
   "file_extension": ".py",
   "mimetype": "text/x-python",
   "name": "python",
   "nbconvert_exporter": "python",
   "pygments_lexer": "ipython3",
   "version": "3.6.9"
  }
 },
 "nbformat": 4,
 "nbformat_minor": 4
}
