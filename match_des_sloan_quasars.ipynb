{
 "cells": [
  {
   "cell_type": "code",
   "execution_count": 1,
   "metadata": {},
   "outputs": [],
   "source": [
    "################# imports  ################\n",
    "from os import listdir\n",
    "from os.path import isfile, join\n",
    "import pandas as pd\n",
    "\n",
    "from io import StringIO\n",
    "from io import BytesIO\n",
    "#from PIL import Image\n",
    "import numpy as np\n",
    "import matplotlib.pyplot as plt\n",
    "from astropy.io import ascii, fits\n",
    "from astropy.table import Table, join, hstack,vstack,QTable\n",
    "from astropy.table import Table\n",
    "from esutil import htm\n",
    "import numpy as np\n",
    "import pandas as pd\n",
    "import os #biblioteca para manipular arquivos e pastas\n",
    "from os import listdir\n",
    "from os.path import isfile, join\n",
    "import healpy as hp\n"
   ]
  },
  {
   "cell_type": "code",
   "execution_count": 2,
   "metadata": {},
   "outputs": [],
   "source": [
    "################# Match ################\n",
    "\n",
    "def match(cat_1, cat_2, column_1, column_2, column_3, column_4,error):\n",
    "    'Function to make the matching with two tables, using the esutil'\n",
    "    h = htm.HTM(depth=10)\n",
    "    m1, m2, d12 = h.match(np.array(cat_1[column_1]), \n",
    "                          np.array(cat_1[column_3]),\n",
    "                          np.array(cat_2[column_2]), \n",
    "                          np.array(cat_2[column_4]),\n",
    "                          error, maxmatch=1)\n",
    "    \n",
    "    submatched = cat_1[m1]\n",
    "    manmatched = cat_2[m2]\n",
    "    matched = hstack([submatched, manmatched])\n",
    "      \n",
    "    return matched"
   ]
  },
  {
   "cell_type": "markdown",
   "metadata": {},
   "source": [
    "# Carregamento dos dados "
   ]
  },
  {
   "cell_type": "markdown",
   "metadata": {},
   "source": [
    "## DES"
   ]
  },
  {
   "cell_type": "code",
   "execution_count": 3,
   "metadata": {},
   "outputs": [
    {
     "name": "stdout",
     "output_type": "stream",
     "text": [
      "/media/new-drive/CamilaCardoso/DES/DES_DR2_interval_0_1000.fits\n",
      "/media/new-drive/CamilaCardoso/DES/DES_DR2_interval_1000_2000.fits\n",
      "/media/new-drive/CamilaCardoso/DES/DES_DR2_interval_2000_3000.fits\n",
      "/media/new-drive/CamilaCardoso/DES/DES_DR2_interval_3000_4000.fits\n",
      "/media/new-drive/CamilaCardoso/DES/DES_DR2_interval_4000_5000.fits\n",
      "/media/new-drive/CamilaCardoso/DES/DES_DR2_interval_5000_6000.fits\n",
      "/media/new-drive/CamilaCardoso/DES/DES_DR2_interval_6000_6568.fits\n"
     ]
    }
   ],
   "source": [
    "################# lê e concatena todas as tabelas que tem no diretório indicado ################\n",
    "diretorio = '/media/new-drive/CamilaCardoso/DES/'\n",
    "table_list = []\n",
    "for diretorio, subpastas, arquivos in os.walk(diretorio):\n",
    "    for arquivo in arquivos:\n",
    "        df = Table.read(os.path.join(diretorio, arquivo)).to_pandas()\n",
    "        table_list.append(df)\n",
    "        print(os.path.join(diretorio, arquivo))\n",
    "des_data = pd.concat(table_list, axis=0, ignore_index=True)"
   ]
  },
  {
   "cell_type": "markdown",
   "metadata": {},
   "source": [
    "## Sloan"
   ]
  },
  {
   "cell_type": "code",
   "execution_count": 4,
   "metadata": {},
   "outputs": [],
   "source": [
    "diretorio = '/media/new-drive/CamilaCardoso/SLOAN'\n",
    "arquivo = 'SLOAN_DR16_sloan_data_quasar_all.fits'\n",
    "sloan_quasars_dr16 = Table.read(os.path.join(diretorio, arquivo))"
   ]
  },
  {
   "cell_type": "code",
   "execution_count": 5,
   "metadata": {},
   "outputs": [],
   "source": [
    "################# Match ################\n",
    "\n",
    "# Conjunto de dados 02\n",
    "des_data_table = Table.from_pandas(des_data)\n",
    "\n",
    "# Conjunto de dados 01\n",
    "match_des_sloan_quasars = match(sloan_quasars_dr16,des_data_table,'ra','RA','dec','DEC',0.0002)\n",
    "# 1 segundo de arco = 0.0002778 graus"
   ]
  },
  {
   "cell_type": "code",
   "execution_count": 6,
   "metadata": {},
   "outputs": [],
   "source": [
    "match_des_sloan_quasars.write('/media/new-drive/CamilaCardoso/CROSS_MATCH_SLOAN_DR16_DES_20211029.fits')"
   ]
  },
  {
   "cell_type": "markdown",
   "metadata": {},
   "source": [
    "## Plot"
   ]
  },
  {
   "cell_type": "code",
   "execution_count": 10,
   "metadata": {},
   "outputs": [],
   "source": [
    "Nside = 64\n",
    "Npix = hp.nside2npix(Nside) # Definição de Npix - 12*(Nside)**2\n",
    "\n",
    "# Criando um dataframe para a plotagem do mollview \n",
    "pixels_location = pd.DataFrame()\n",
    "pixels_location['indices'] = np.arange(Npix)"
   ]
  },
  {
   "cell_type": "code",
   "execution_count": 66,
   "metadata": {},
   "outputs": [],
   "source": [
    "match_pixels_location = pd.DataFrame()\n",
    "match_pixels_location['indices'] = match_des_sloan_quasars['Npix']\n",
    "match_pixels_grouped = match_pixels_location.groupby(['indices']).size().reset_index(name='counts')\n",
    "\n",
    "match_pixels_frequency = pd.merge(pixels_location, match_pixels_grouped, how = 'outer')\n",
    "match_pixels_frequency = match_pixels_frequency.fillna(0) "
   ]
  },
  {
   "cell_type": "code",
   "execution_count": 73,
   "metadata": {},
   "outputs": [
    {
     "data": {
      "image/png": "[encoded data removed]",
      "text/plain": [
       "<Figure size 720x720 with 2 Axes>"
      ]
     },
     "metadata": {
      "needs_background": "light"
     },
     "output_type": "display_data"
    }
   ],
   "source": [
    "plt.figure(figsize=(10,10))\n",
    "hp.mollview(match_pixels_frequency.counts.values, title=\"Distribuição de objetos por pixel dos dados presentes no Cross Match \\n entre quasares presentes no Sloan Sky Survey DR16 e objetos não classificados presentes do Dark Energy Survey \", unit='Objetos por pixel', cmap='jet', hold =True )\n",
    "plt.show()"
   ]
  }
 ],
 "metadata": {
  "kernelspec": {
   "display_name": "Python 3",
   "language": "python",
   "name": "python3"
  },
  "language_info": {
   "codemirror_mode": {
    "name": "ipython",
    "version": 3
   },
   "file_extension": ".py",
   "mimetype": "text/x-python",
   "name": "python",
   "nbconvert_exporter": "python",
   "pygments_lexer": "ipython3",
   "version": "3.6.9"
  }
 },
 "nbformat": 4,
 "nbformat_minor": 4
}
